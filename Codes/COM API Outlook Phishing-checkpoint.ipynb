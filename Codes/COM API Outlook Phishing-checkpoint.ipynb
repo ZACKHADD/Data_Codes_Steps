{
 "cells": [
  {
   "cell_type": "code",
   "execution_count": 6,
   "id": "e10cc753-bb89-4bba-9f57-98dd3d9ea436",
   "metadata": {},
   "outputs": [],
   "source": [
    "import pandas as pd\n",
    "import win32com.client"
   ]
  },
  {
   "cell_type": "code",
   "execution_count": 7,
   "id": "315f891a-7e58-4a00-9ff6-589c839debbb",
   "metadata": {},
   "outputs": [],
   "source": [
    "# Se connecter à Outlook\n",
    "outlook = win32com.client.Dispatch(\"Outlook.Application\").GetNamespace(\"MAPI\")"
   ]
  },
  {
   "cell_type": "code",
   "execution_count": 88,
   "id": "8488d6c9-6e08-4b72-b881-8872045c78f3",
   "metadata": {},
   "outputs": [],
   "source": [
    "inbox = outlook.GetDefaultFolder(6)  "
   ]
  },
  {
   "cell_type": "code",
   "execution_count": 99,
   "id": "ac4bf8d4-6831-41c2-b230-92018b61ef3e",
   "metadata": {},
   "outputs": [],
   "source": [
    "def get_folder_by_path(folder, path_list):\n",
    "    \"\"\"\n",
    "    Path_list est le chemin du sous dossier à processer\n",
    "    ex : path_list = [\"2025\", \"September\"]\n",
    "    \"\"\"\n",
    "    current = folder\n",
    "    for name in path_list:\n",
    "        try:\n",
    "            current = current.Folders[name]\n",
    "        except:\n",
    "            print(f'the path {name} is not correct')\n",
    "            break\n",
    "    return current"
   ]
  },
  {
   "cell_type": "code",
   "execution_count": 106,
   "id": "81000dcf-fe5b-4b2f-875b-ddfe9a0484bf",
   "metadata": {},
   "outputs": [],
   "source": [
    "year = 2025\n",
    "path_list = [\"test_python\", \"sub_test\"]\n",
    "target_folder = get_folder_by_path(inbox, path_list)"
   ]
  },
  {
   "cell_type": "code",
   "execution_count": 107,
   "id": "3d331c11-1e4a-41b6-b6f3-ca96659e8e14",
   "metadata": {},
   "outputs": [
    {
     "data": {
      "text/html": [
       "<div>\n",
       "<style scoped>\n",
       "    .dataframe tbody tr th:only-of-type {\n",
       "        vertical-align: middle;\n",
       "    }\n",
       "\n",
       "    .dataframe tbody tr th {\n",
       "        vertical-align: top;\n",
       "    }\n",
       "\n",
       "    .dataframe thead th {\n",
       "        text-align: right;\n",
       "    }\n",
       "</style>\n",
       "<table border=\"1\" class=\"dataframe\">\n",
       "  <thead>\n",
       "    <tr style=\"text-align: right;\">\n",
       "      <th></th>\n",
       "      <th>FolderPath</th>\n",
       "      <th>Subject</th>\n",
       "      <th>SenderName</th>\n",
       "      <th>SenderAddress</th>\n",
       "      <th>ReceivedTime</th>\n",
       "      <th>Body</th>\n",
       "    </tr>\n",
       "  </thead>\n",
       "  <tbody>\n",
       "    <tr>\n",
       "      <th>0</th>\n",
       "      <td>sub_test</td>\n",
       "      <td>TR: Script Cyber-Alerte Enedis</td>\n",
       "      <td>GALLAND Stephane</td>\n",
       "      <td>stephane.galland@natrangroupe.com</td>\n",
       "      <td>2025-09-04 10:19:42</td>\n",
       "      <td>\\r\\n\\r\\n\\r\\nClassification NaTran : Public [ ...</td>\n",
       "    </tr>\n",
       "  </tbody>\n",
       "</table>\n",
       "</div>"
      ],
      "text/plain": [
       "  FolderPath                         Subject        SenderName  \\\n",
       "0   sub_test  TR: Script Cyber-Alerte Enedis  GALLAND Stephane   \n",
       "\n",
       "                       SenderAddress         ReceivedTime  \\\n",
       "0  stephane.galland@natrangroupe.com  2025-09-04 10:19:42   \n",
       "\n",
       "                                                Body  \n",
       "0   \\r\\n\\r\\n\\r\\nClassification NaTran : Public [ ...  "
      ]
     },
     "execution_count": 107,
     "metadata": {},
     "output_type": "execute_result"
    }
   ],
   "source": [
    "emails_data = []\n",
    "def get_emails_from_folder(folder):\n",
    "    # Récupérer tour les éléments du dossier\n",
    "    messages = folder.Items\n",
    "    messages.Sort(\"[ReceivedTime]\", True)  # tri décroissant\n",
    "\n",
    "    for message in list(messages):\n",
    "        try:\n",
    "            # Récupérer uniquement les vrais emails\n",
    "            if not hasattr(message, \"Sender\"):\n",
    "                continue\n",
    "\n",
    "            # Récupérer le info de l'emetteur\n",
    "            sender_name = message.SenderName\n",
    "            sender_email = None\n",
    "\n",
    "            try:\n",
    "                if message.SenderEmailType == \"EX\":\n",
    "                    exch_user = message.Sender.GetExchangeUser()\n",
    "                    if exch_user:\n",
    "                        sender_email = exch_user.PrimarySmtpAddress\n",
    "                else:\n",
    "                    sender_email = message.SenderEmailAddress\n",
    "            except Exception:\n",
    "                sender_email = message.SenderEmailAddress\n",
    "\n",
    "            emails_data.append({\n",
    "                \"FolderPath\": folder,\n",
    "                \"Subject\": message.Subject,\n",
    "                \"SenderName\": sender_name,\n",
    "                \"SenderAddress\": sender_email,\n",
    "                \"ReceivedTime\": message.ReceivedTime.strftime(\"%Y-%m-%d %H:%M:%S\"),\n",
    "                \"Body\": (message.Body or \"\")[:200]  # récupère que 200 caractères\n",
    "            })\n",
    "\n",
    "        except Exception as e:\n",
    "            print(\"Skipped item:\", e)\n",
    "\n",
    "# appeler la fonction\n",
    "get_emails_from_folder(target_folder)\n",
    "\n",
    "# Convertir les données en DataFrame\n",
    "df = pd.DataFrame(emails_data)\n",
    "df"
   ]
  },
  {
   "cell_type": "code",
   "execution_count": 111,
   "id": "1f591632-3350-41c5-80d5-6fc17eb44cb8",
   "metadata": {},
   "outputs": [
    {
     "name": "stdout",
     "output_type": "stream",
     "text": [
      "✅ Exported 1 emails including subfolders to all_inbox_emails.json\n"
     ]
    }
   ],
   "source": [
    "path_export = \"C:/Users/7273TZ/GRTgaz/SSI-Gouv-Data-Sensibilisation - Documents/Fichiers Phishing/\" # doit être un chemin vers le dossier local sharepoint\n",
    "# Exporter en JSON\n",
    "df.to_json(f\"{path_export}Signalements_{year}_{target_folder}.json\", orient=\"records\", indent=4, force_ascii=False)\n",
    "\n",
    "print(f\"✅ Exported {len(df)} emails including subfolders to all_inbox_emails.json\")"
   ]
  }
 ],
 "metadata": {
  "kernelspec": {
   "display_name": "Python 3 (ipykernel)",
   "language": "python",
   "name": "python3"
  },
  "language_info": {
   "codemirror_mode": {
    "name": "ipython",
    "version": 3
   },
   "file_extension": ".py",
   "mimetype": "text/x-python",
   "name": "python",
   "nbconvert_exporter": "python",
   "pygments_lexer": "ipython3",
   "version": "3.11.13"
  }
 },
 "nbformat": 4,
 "nbformat_minor": 5
}
